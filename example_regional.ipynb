{
 "cells": [
  {
   "cell_type": "markdown",
   "id": "1c5e48a2-922e-4fff-a800-78b2ab11bfac",
   "metadata": {
    "tags": []
   },
   "source": [
    "## 0. Imports"
   ]
  },
  {
   "cell_type": "code",
   "execution_count": null,
   "id": "dc7f3d3a-b46c-4252-973e-73be4e1dd687",
   "metadata": {},
   "outputs": [],
   "source": [
    "import warnings\n",
    "\n",
    "import numpy as np\n",
    "from obspy import UTCDateTime\n",
    "from waveform_collection import gather_waveforms_bulk\n",
    "\n",
    "from rtm import (calculate_time_buffer, define_grid, get_peak_coordinates,\n",
    "                 grid_search, plot_record_section, plot_time_slice,\n",
    "                 process_waveforms)\n",
    "\n",
    "# Ignore benign Matplotlib backend warning due to fig.show()\n",
    "warnings.filterwarnings(action='ignore', message='Matplotlib is currently using module')"
   ]
  },
  {
   "cell_type": "markdown",
   "id": "49efcb76-3580-46ca-b645-96a9ead2000b",
   "metadata": {
    "tags": []
   },
   "source": [
    "## 1. Define grid"
   ]
  },
  {
   "cell_type": "code",
   "execution_count": null,
   "id": "afee6300-e5a1-4ec1-9aa6-c60f81f1573a",
   "metadata": {},
   "outputs": [],
   "source": [
    "LON_0 = -175.393  # [deg] Longitude of grid center\n",
    "LAT_0 = -20.540  # [deg] Latitude of grid center\n",
    "\n",
    "X_RADIUS = 15  # [deg] E-W grid radius (half of grid \"width\")\n",
    "Y_RADIUS = 10  # [deg] N-S grid radius (half of grid \"height\")\n",
    "SPACING = 0.5  # [deg] Grid spacing\n",
    "\n",
    "grid = define_grid(\n",
    "    lon_0=LON_0,\n",
    "    lat_0=LAT_0,\n",
    "    x_radius=X_RADIUS,\n",
    "    y_radius=Y_RADIUS,\n",
    "    spacing=SPACING,\n",
    "    projected=False,\n",
    "    plot_preview=False,\n",
    ")"
   ]
  },
  {
   "cell_type": "markdown",
   "id": "03175d31-110a-4eb2-b888-3269c5adfcf2",
   "metadata": {},
   "source": [
    "## 2. Grab the data"
   ]
  },
  {
   "cell_type": "code",
   "execution_count": null,
   "id": "26af6c3b-d05a-4fef-978f-15b14d51ee4c",
   "metadata": {
    "scrolled": false
   },
   "outputs": [],
   "source": [
    "# Start and end of time window containing (suspected) events\n",
    "STARTTIME = UTCDateTime('2022-01-15T03')\n",
    "ENDTIME = UTCDateTime('2022-01-15T06')\n",
    "\n",
    "MAX_RADIUS = 7000  # [km] Radius within which to search for stations\n",
    "\n",
    "# Bulk waveform gather\n",
    "st = gather_waveforms_bulk(\n",
    "    LON_0,\n",
    "    LAT_0,\n",
    "    MAX_RADIUS,\n",
    "    STARTTIME,\n",
    "    ENDTIME,\n",
    "    'LD?',\n",
    "    time_buffer=calculate_time_buffer(grid, MAX_RADIUS),\n",
    "    remove_response=False,  # Avoid dealing with polynomial response\n",
    ")\n",
    "\n",
    "# Remove stations with duplicate locations\n",
    "for station in np.unique([tr.stats.station for tr in st]):\n",
    "    for tr in st.select(station=station)[1:]:\n",
    "        st.remove(tr)\n",
    "\n",
    "# Remove problematic traces\n",
    "for station in 'I60H2', 'PMG':\n",
    "    for tr in st.select(station=station):\n",
    "        st.remove(tr)"
   ]
  },
  {
   "cell_type": "markdown",
   "id": "16dc4bc8-cfb6-4b50-9c36-1d5abfca419b",
   "metadata": {},
   "source": [
    "## 3. Process the data"
   ]
  },
  {
   "cell_type": "code",
   "execution_count": null,
   "id": "55ee68ce-0c6f-4bf3-975d-bed5527000f7",
   "metadata": {},
   "outputs": [],
   "source": [
    "FREQ_MIN = 0.001  # [Hz] Lower bandpass corner\n",
    "FREQ_MAX = 0.1  # [Hz] Upper bandpass corner\n",
    "\n",
    "DECIMATION_RATE = 0.1  # [Hz] New sampling rate to use for decimation\n",
    "SMOOTH_WIN = 15 * 60  # [s] Smoothing window duration\n",
    "\n",
    "st_proc = process_waveforms(\n",
    "    st,\n",
    "    freqmin=FREQ_MIN,\n",
    "    freqmax=FREQ_MAX,\n",
    "    envelope=True,\n",
    "    smooth_win=SMOOTH_WIN,\n",
    "    decimation_rate=DECIMATION_RATE,\n",
    "    normalize=True,\n",
    ")"
   ]
  },
  {
   "cell_type": "markdown",
   "id": "66e22f24-9c21-4c6b-8b8c-e6e410015ce4",
   "metadata": {},
   "source": [
    "## 4. Perform grid search"
   ]
  },
  {
   "cell_type": "code",
   "execution_count": null,
   "id": "ae85d524-8a0f-4850-a6d2-c87a98a5116f",
   "metadata": {},
   "outputs": [],
   "source": [
    "STACK_METHOD = 'sum'  # Choose either 'sum', 'product', or 'semblance'\n",
    "TIME_METHOD = 'celerity'  # Choose either 'celerity' or 'fdtd'\n",
    "CELERITY = 310  # [m/s]\n",
    "\n",
    "S = grid_search(\n",
    "    processed_st=st_proc,\n",
    "    grid=grid,\n",
    "    time_method=TIME_METHOD,\n",
    "    starttime=STARTTIME,\n",
    "    endtime=ENDTIME,\n",
    "    stack_method=STACK_METHOD,\n",
    "    celerity=CELERITY,\n",
    ")"
   ]
  },
  {
   "cell_type": "markdown",
   "id": "c7a5681c-fd16-48b9-8f02-265e2d128757",
   "metadata": {},
   "source": [
    "## 4. Plot"
   ]
  },
  {
   "cell_type": "code",
   "execution_count": null,
   "id": "3702cc84-3b4b-4c5d-8f6f-c15811c8598d",
   "metadata": {},
   "outputs": [],
   "source": [
    "fig_slice = plot_time_slice(\n",
    "    S, st_proc, label_stations=True, hires=False, plot_peak=True\n",
    ")\n",
    "fig_slice.set_size_inches([9, 12])\n",
    "fig_slice.show()\n",
    "\n",
    "time_max, y_max, x_max, _, _ = get_peak_coordinates(S, unproject=S.UTM)\n",
    "\n",
    "fig = plot_record_section(\n",
    "    st_proc,\n",
    "    origin_time=time_max,\n",
    "    source_location=(y_max, x_max),\n",
    "    plot_celerity='range',\n",
    "    label_waveforms=True,\n",
    ")\n"
   ]
  }
 ],
 "metadata": {
  "kernelspec": {
   "display_name": "Python 3 (ipykernel)",
   "language": "python",
   "name": "python3"
  },
  "language_info": {
   "codemirror_mode": {
    "name": "ipython",
    "version": 3
   },
   "file_extension": ".py",
   "mimetype": "text/x-python",
   "name": "python",
   "nbconvert_exporter": "python",
   "pygments_lexer": "ipython3",
   "version": "3.10.6"
  }
 },
 "nbformat": 4,
 "nbformat_minor": 5
}
